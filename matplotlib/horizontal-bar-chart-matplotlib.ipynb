{
 "cells": [
  {
   "cell_type": "markdown",
   "id": "afraid-relaxation",
   "metadata": {},
   "source": [
    "# Horizontal bar chart\n",
    "\n",
    "This notebook shows you how to make a horizontal bar chart"
   ]
  },
  {
   "cell_type": "code",
   "execution_count": 21,
   "id": "uniform-commission",
   "metadata": {},
   "outputs": [
    {
     "data": {
      "text/plain": [
       "Text(0.5, 1.0, 'Horizontal nonsense')"
      ]
     },
     "execution_count": 21,
     "metadata": {},
     "output_type": "execute_result"
    },
    {
     "data": {
      "image/png": "[encoded data removed]",
      "text/plain": [
       "<Figure size 576x288 with 1 Axes>"
      ]
     },
     "metadata": {
      "needs_background": "light"
     },
     "output_type": "display_data"
    }
   ],
   "source": [
    "import matplotlib.pyplot as plt\n",
    "import numpy as np\n",
    "\n",
    "red = \"#E40613\"\n",
    "pink = \"#f2c1c4\"\n",
    "\n",
    "data = np.array([10, 12, 25])\n",
    "labels = [\"Group \" + x for x in list(\"ABCEFG\"[0 : len(data)])]\n",
    "width = 0.8\n",
    "fig, ax = plt.subplots(figsize=(8, 4))\n",
    "ax.xaxis.grid(True)\n",
    "ax.barh(\n",
    "    y=labels, width=data, color=pink, edgecolor=red, linewidth=2.5\n",
    ")  # you can immediately plot the labels!\n",
    "ax.set_ylabel(\"Gender\")\n",
    "ax.set_xlabel(\"Rate (percent)\")\n",
    "ax.set_title(\"Horizontal nonsense\")"
   ]
  }
 ],
 "metadata": {
  "kernelspec": {
   "display_name": "Python 3",
   "language": "python",
   "name": "python3"
  },
  "language_info": {
   "codemirror_mode": {
    "name": "ipython",
    "version": 3
   },
   "file_extension": ".py",
   "mimetype": "text/x-python",
   "name": "python",
   "nbconvert_exporter": "python",
   "pygments_lexer": "ipython3",
   "version": "3.7.3"
  }
 },
 "nbformat": 4,
 "nbformat_minor": 5
}
