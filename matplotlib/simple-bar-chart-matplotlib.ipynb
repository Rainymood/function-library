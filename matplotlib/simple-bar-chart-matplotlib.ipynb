{
 "cells": [
  {
   "cell_type": "markdown",
   "id": "compact-attitude",
   "metadata": {},
   "source": [
    "# Simple bar chart matplotlib 2"
   ]
  },
  {
   "cell_type": "code",
   "execution_count": 30,
   "id": "weighted-equity",
   "metadata": {},
   "outputs": [
    {
     "data": {
      "text/plain": [
       "Text(0.5, 0.98, 'bigger title')"
      ]
     },
     "execution_count": 30,
     "metadata": {},
     "output_type": "execute_result"
    },
    {
     "data": {
      "image/png": "[encoded data removed]",
      "text/plain": [
       "<Figure size 576x216 with 1 Axes>"
      ]
     },
     "metadata": {
      "needs_background": "light"
     },
     "output_type": "display_data"
    }
   ],
   "source": [
    "import matplotlib.pyplot as plt\n",
    "import numpy as np\n",
    "\n",
    "N = 5\n",
    "labels = list(\"ABCDEFGHIJKLMNO\"[0:N])\n",
    "data = np.array(range(N) + np.random.rand(N))\n",
    "fig, ax = plt.subplots(figsize=(8, 3))\n",
    "tick_locations = np.arange(N)\n",
    "\n",
    "ax.bar(\n",
    "    x=tick_locations,\n",
    "    height=data,\n",
    "    color=\"wheat\",\n",
    "    edgecolor=\"#8B7E66\",\n",
    "    linewidth=4.0,\n",
    "    align=\"center\",\n",
    ")\n",
    "\n",
    "ax.set_xticks(tick_locations)  # necessary otherwise A doesnt render\n",
    "ax.set_xticklabels(labels)\n",
    "ax.yaxis.grid(True)\n",
    "fig.suptitle(\"bigger title\", fontsize=16)"
   ]
  }
 ],
 "metadata": {
  "kernelspec": {
   "display_name": "Python 3",
   "language": "python",
   "name": "python3"
  },
  "language_info": {
   "codemirror_mode": {
    "name": "ipython",
    "version": 3
   },
   "file_extension": ".py",
   "mimetype": "text/x-python",
   "name": "python",
   "nbconvert_exporter": "python",
   "pygments_lexer": "ipython3",
   "version": "3.7.3"
  }
 },
 "nbformat": 4,
 "nbformat_minor": 5
}
