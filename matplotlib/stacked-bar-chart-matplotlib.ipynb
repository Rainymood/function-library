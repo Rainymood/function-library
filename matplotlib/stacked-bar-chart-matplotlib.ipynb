{
 "cells": [
  {
   "cell_type": "markdown",
   "id": "functional-cigarette",
   "metadata": {},
   "source": [
    "# Stacked bar chart matplotlib\n",
    "\n",
    "This notebook shows you how to quickly make a **stacked bar chart**. Like any other graph, you simply have to define the `x`, the `height` and then finally you only have to pass through the `bottoms` prop in `ax.bar()`. That's it!"
   ]
  },
  {
   "cell_type": "code",
   "execution_count": 28,
   "id": "educated-huntington",
   "metadata": {},
   "outputs": [
    {
     "data": {
      "image/png": "[encoded data removed]",
      "text/plain": [
       "<Figure size 576x360 with 1 Axes>"
      ]
     },
     "metadata": {
      "needs_background": "light"
     },
     "output_type": "display_data"
    }
   ],
   "source": [
    "import matplotlib.pyplot as plt\n",
    "import numpy as np\n",
    "\n",
    "alphas = np.array([23, 44, 52, 32])\n",
    "betas = np.array([38, 49, 32, 61])\n",
    "labels = [\"Group \" + x for x in list(\"ABCDEFGHILJ\"[0 : len(alphas)])]\n",
    "x_locs = np.arange(len(alphas))\n",
    "\n",
    "fig, ax = plt.subplots(figsize=(8, 5))\n",
    "ax.bar(\n",
    "    x=x_locs,\n",
    "    height=alphas,\n",
    "    label=\"alpha\",\n",
    "    color=\"tan\",\n",
    "    align=\"center\",\n",
    "    edgecolor=\"black\",\n",
    ")\n",
    "ax.bar(\n",
    "    x=x_locs,\n",
    "    height=betas,\n",
    "    label=\"beta\",\n",
    "    color=\"wheat\",\n",
    "    align=\"center\",\n",
    "    bottom=alphas,\n",
    "    edgecolor=\"black\",\n",
    ")\n",
    "ax.set_xticks(ticks=x_locs)\n",
    "ax.set_xticklabels(labels)\n",
    "ax.yaxis.grid()\n",
    "plt.show()"
   ]
  }
 ],
 "metadata": {
  "kernelspec": {
   "display_name": "Python 3",
   "language": "python",
   "name": "python3"
  },
  "language_info": {
   "codemirror_mode": {
    "name": "ipython",
    "version": 3
   },
   "file_extension": ".py",
   "mimetype": "text/x-python",
   "name": "python",
   "nbconvert_exporter": "python",
   "pygments_lexer": "ipython3",
   "version": "3.7.3"
  }
 },
 "nbformat": 4,
 "nbformat_minor": 5
}
