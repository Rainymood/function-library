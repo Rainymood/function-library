{
 "cells": [
  {
   "cell_type": "markdown",
   "metadata": {},
   "source": [
    "# Generate markdown file\n",
    "\n",
    "Automatically generates `README_auto.md` by going over notebooks in each dir."
   ]
  },
  {
   "cell_type": "code",
   "execution_count": 2,
   "metadata": {},
   "outputs": [
    {
     "data": {
      "text/plain": [
       "<generator object walk at 0x10f282cf0>"
      ]
     },
     "execution_count": 2,
     "metadata": {},
     "output_type": "execute_result"
    }
   ],
   "source": [
    "import os"
   ]
  },
  {
   "cell_type": "markdown",
   "metadata": {},
   "source": [
    "## Get all notebooks"
   ]
  },
  {
   "cell_type": "code",
   "execution_count": null,
   "metadata": {},
   "outputs": [],
   "source": [
    "# path to dirs with notebooks\n",
    "path = './'"
   ]
  },
  {
   "cell_type": "code",
   "execution_count": 10,
   "metadata": {},
   "outputs": [],
   "source": [
    "# Find all jupyter notebooks in all content folders\n",
    "all_ipynb_files = [os.path.join(root, name)\n",
    "                   for root, dirs, files in os.walk(path)\n",
    "                       for name in files\n",
    "                           if name.endswith((\".ipynb\"))]"
   ]
  },
  {
   "cell_type": "code",
   "execution_count": 12,
   "metadata": {},
   "outputs": [],
   "source": [
    "# Remove all notebooks from checkpoint folders\n",
    "ipynb_files = [x for x in all_ipynb_files if \".ipynb_checkpoints\" not in x]"
   ]
  },
  {
   "cell_type": "code",
   "execution_count": 13,
   "metadata": {},
   "outputs": [
    {
     "data": {
      "text/plain": [
       "['./make_readme.ipynb',\n",
       " './computer-science/algorithms/Quicksort.ipynb',\n",
       " './preprocessing-structured-data/One-hot_encode_nominal_categorical_features_(OneHotEncoder).ipynb',\n",
       " './preprocessing-structured-data/Encode_ordinal_categorical_features_(OrdinalEncoder).ipynb',\n",
       " './preprocessing-structured-data/Convert_pandas_categorical_data_with_LabelEncoder_(scikit-learn).ipynb',\n",
       " './preprocessing-structured-data/Discretize_features.ipynb',\n",
       " './preprocessing-structured-data/Drop_rows_missing_data.ipynb',\n",
       " './preprocessing-structured-data/Impute_missing_data_with_means.ipynb',\n",
       " './creating-data/Create_simulated_data_moons.ipynb',\n",
       " './creating-data/Loading_scikit_learn_iris_datset.ipynb',\n",
       " './creating-data/Loading_scikit_learn_boston_housing_dataset.ipynb',\n",
       " './creating-data/Loading_keras_imdb_dataset.ipynb',\n",
       " './creating-data/Create_simulated_data_for_clustering_(blobs).ipynb',\n",
       " './creating-data/Create_simulated_data_for_regression.ipynb',\n",
       " './creating-data/Loading_scikit_learn_digits_dataset.ipynb',\n",
       " './data-wrangling/Group_pandas_data_by_hour_of_day.ipynb',\n",
       " './linear-regression/Linear-regression-using-scikit-learn.ipynb',\n",
       " './plotting/Color_map_for_labels_with_islice.ipynb',\n",
       " './sklearn-pipelines/Selecting_numerical_columns_with_custom_transformer.ipynb']"
      ]
     },
     "execution_count": 13,
     "metadata": {},
     "output_type": "execute_result"
    }
   ],
   "source": [
    "ipynb_files"
   ]
  },
  {
   "cell_type": "code",
   "execution_count": 20,
   "metadata": {},
   "outputs": [
    {
     "name": "stdout",
     "output_type": "stream",
     "text": [
      "![./make_readme.ipynb](./make_readme.ipynb)\n",
      "![./computer-science/algorithms/Quicksort.ipynb](./computer-science/algorithms/Quicksort.ipynb)\n",
      "![./preprocessing-structured-data/One-hot_encode_nominal_categorical_features_(OneHotEncoder).ipynb](./preprocessing-structured-data/One-hot_encode_nominal_categorical_features_(OneHotEncoder).ipynb)\n",
      "![./preprocessing-structured-data/Encode_ordinal_categorical_features_(OrdinalEncoder).ipynb](./preprocessing-structured-data/Encode_ordinal_categorical_features_(OrdinalEncoder).ipynb)\n",
      "![./preprocessing-structured-data/Convert_pandas_categorical_data_with_LabelEncoder_(scikit-learn).ipynb](./preprocessing-structured-data/Convert_pandas_categorical_data_with_LabelEncoder_(scikit-learn).ipynb)\n",
      "![./preprocessing-structured-data/Discretize_features.ipynb](./preprocessing-structured-data/Discretize_features.ipynb)\n",
      "![./preprocessing-structured-data/Drop_rows_missing_data.ipynb](./preprocessing-structured-data/Drop_rows_missing_data.ipynb)\n",
      "![./preprocessing-structured-data/Impute_missing_data_with_means.ipynb](./preprocessing-structured-data/Impute_missing_data_with_means.ipynb)\n",
      "![./creating-data/Create_simulated_data_moons.ipynb](./creating-data/Create_simulated_data_moons.ipynb)\n",
      "![./creating-data/Loading_scikit_learn_iris_datset.ipynb](./creating-data/Loading_scikit_learn_iris_datset.ipynb)\n",
      "![./creating-data/Loading_scikit_learn_boston_housing_dataset.ipynb](./creating-data/Loading_scikit_learn_boston_housing_dataset.ipynb)\n",
      "![./creating-data/Loading_keras_imdb_dataset.ipynb](./creating-data/Loading_keras_imdb_dataset.ipynb)\n",
      "![./creating-data/Create_simulated_data_for_clustering_(blobs).ipynb](./creating-data/Create_simulated_data_for_clustering_(blobs).ipynb)\n",
      "![./creating-data/Create_simulated_data_for_regression.ipynb](./creating-data/Create_simulated_data_for_regression.ipynb)\n",
      "![./creating-data/Loading_scikit_learn_digits_dataset.ipynb](./creating-data/Loading_scikit_learn_digits_dataset.ipynb)\n",
      "![./data-wrangling/Group_pandas_data_by_hour_of_day.ipynb](./data-wrangling/Group_pandas_data_by_hour_of_day.ipynb)\n",
      "![./linear-regression/Linear-regression-using-scikit-learn.ipynb](./linear-regression/Linear-regression-using-scikit-learn.ipynb)\n",
      "![./plotting/Color_map_for_labels_with_islice.ipynb](./plotting/Color_map_for_labels_with_islice.ipynb)\n",
      "![./sklearn-pipelines/Selecting_numerical_columns_with_custom_transformer.ipynb](./sklearn-pipelines/Selecting_numerical_columns_with_custom_transformer.ipynb)\n"
     ]
    }
   ],
   "source": [
    "for file in ipynb_files:\n",
    "    # ./dir/dir/filename.ipynb split on '/'\n",
    "    link = file # save relative link to file\n",
    "    level = 1\n",
    "    for name in file.split('/'):\n",
    "        if name.endswith('.ipynb'):\n",
    "#             print(f\"![{name}]({link})\")\n",
    "            print(f\"![{link}]({link})\")\n",
    "        "
   ]
  },
  {
   "cell_type": "markdown",
   "metadata": {},
   "source": [
    "https://stackoverflow.com/questions/23989232/is-there-a-way-to-represent-a-directory-tree-in-a-github-readme-md/47795759"
   ]
  },
  {
   "cell_type": "code",
   "execution_count": null,
   "metadata": {},
   "outputs": [],
   "source": [
    "https://github.com/michalbe/md-file-tree"
   ]
  }
 ],
 "metadata": {
  "kernelspec": {
   "display_name": "Python 3",
   "language": "python",
   "name": "python3"
  },
  "language_info": {
   "codemirror_mode": {
    "name": "ipython",
    "version": 3
   },
   "file_extension": ".py",
   "mimetype": "text/x-python",
   "name": "python",
   "nbconvert_exporter": "python",
   "pygments_lexer": "ipython3",
   "version": "3.7.3"
  }
 },
 "nbformat": 4,
 "nbformat_minor": 2
}
