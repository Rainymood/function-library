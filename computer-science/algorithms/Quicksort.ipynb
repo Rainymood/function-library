{
 "cells": [
  {
   "cell_type": "markdown",
   "metadata": {},
   "source": [
    "# Quicksort\n",
    "\n",
    "Implementation of the quicksort algorithm. This divide and conquer algorithm works by splitting up the problem by: \n",
    "\n",
    "* Splitting up the problem in a base case (empty or element 1)\n",
    "* Subdividing the problem until you end up in one of the base cases\n",
    "\n",
    "Solution is not optimal, construction of lesser and greater could be done in place I believe."
   ]
  },
  {
   "cell_type": "code",
   "execution_count": 15,
   "metadata": {},
   "outputs": [
    {
     "data": {
      "text/plain": [
       "[0, 1, 1, 1, 1, 1, 1, 1, 2, 2, 2, 3, 4]"
      ]
     },
     "execution_count": 15,
     "metadata": {},
     "output_type": "execute_result"
    }
   ],
   "source": [
    "def quicksort(arr): \n",
    "    # base case [] or [.]\n",
    "    if len(arr) < 2:\n",
    "        return arr\n",
    "    # otherwise choose pivot and recurse\n",
    "    pivot = arr[0]\n",
    "    lesser = [i for i in arr[1:] if i <= pivot ]\n",
    "    greater = [i for i in arr[1:] if i >= pivot]\n",
    "    \n",
    "    return quicksort(lesser) + [pivot] + quicksort(greater)\n",
    "\n",
    "quicksort([1, 2, 1, 0, 1, 2, 3, 4])"
   ]
  }
 ],
 "metadata": {
  "kernelspec": {
   "display_name": "Python 3",
   "language": "python",
   "name": "python3"
  },
  "language_info": {
   "codemirror_mode": {
    "name": "ipython",
    "version": 3
   },
   "file_extension": ".py",
   "mimetype": "text/x-python",
   "name": "python",
   "nbconvert_exporter": "python",
   "pygments_lexer": "ipython3",
   "version": "3.7.3"
  }
 },
 "nbformat": 4,
 "nbformat_minor": 2
}
