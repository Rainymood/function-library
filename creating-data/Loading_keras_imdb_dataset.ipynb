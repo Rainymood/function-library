{
 "cells": [
  {
   "cell_type": "markdown",
   "metadata": {},
   "source": [
    "# Loading Keras IMDB dataset"
   ]
  },
  {
   "cell_type": "code",
   "execution_count": 49,
   "metadata": {},
   "outputs": [],
   "source": [
    "import numpy as np\n",
    "import pandas as pd\n",
    "\n",
    "from keras.datasets import imdb\n",
    "from keras.preprocessing.text import Tokenizer"
   ]
  },
  {
   "cell_type": "markdown",
   "metadata": {},
   "source": [
    "This downloads 25.000 movie reviews from IMDB with the label positive/negative.\n",
    "\n",
    "Each review is encoded as a list of indexes (integers)\n",
    "\n",
    "Words are encoded by overall frequency in the dataset. Integer 3 encodes the 3rd most frequent word in the data. "
   ]
  },
  {
   "cell_type": "markdown",
   "metadata": {},
   "source": [
    "## Create data"
   ]
  },
  {
   "cell_type": "code",
   "execution_count": 51,
   "metadata": {},
   "outputs": [],
   "source": [
    "# set number of features (use top 1000 words)\n",
    "num_words = 1000\n",
    "index_from = 3\n",
    "\n",
    "# load data\n",
    "(x_train, y_train), (x_test, y_test) = imdb.load_data(num_words=num_words, index_from=index_from)"
   ]
  },
  {
   "cell_type": "markdown",
   "metadata": {},
   "source": [
    "## Convert word to index (and reverse)\n",
    "\n",
    "Note that by default indexing starts from 3 in the default settings as follows.\n",
    "\n",
    "```\n",
    "start_char=1, oov_char=2, index_from=3,\n",
    "```\n",
    "\n",
    "This means that: \n",
    "\n",
    "* `0` is the padding char\n",
    "* `1` is the start char\n",
    "* `2` is oov\n",
    "* `3` is unknown\n",
    "\n",
    "So we need to load in the mapping and then shift it 3 to the right, very convenient."
   ]
  },
  {
   "cell_type": "code",
   "execution_count": 46,
   "metadata": {},
   "outputs": [],
   "source": [
    "# Get word index (word => index)\n",
    "word_to_id = imdb.get_word_index()\n",
    "word_to_id = {k:(v+index_from) for k,v in word_to_id.items()}\n",
    "word_to_id[\"<PAD>\"] = 0\n",
    "word_to_id[\"<START>\"] = 1\n",
    "word_to_id[\"<UNK>\"] = 2\n",
    "word_to_id[\"<UNUSED>\"] = 3\n",
    "\n",
    "# Reverse word index (index => word)\n",
    "id_to_word = dict([(value, key) for (key, value) in word_to_id.items()])\n",
    "\n"
   ]
  },
  {
   "cell_type": "markdown",
   "metadata": {},
   "source": [
    "## View data"
   ]
  },
  {
   "cell_type": "code",
   "execution_count": 48,
   "metadata": {},
   "outputs": [
    {
     "data": {
      "text/plain": [
       "\"<START> although i had seen <UNK> in a theater way back in <UNK> i couldn't remember anything of the plot except for <UNK> <UNK> of <UNK> <UNK> running and fighting against a <UNK> of <UNK> <UNK> and <UNK> <UNK> the ending br br after reading some of the other reviews i <UNK> up a <UNK> of the <UNK> released dvd to once again <UNK> the world of <UNK> br br it turns out this is one of those films <UNK> during the <UNK> that would go <UNK> to video today the film stars <UNK> <UNK> <UNK> <UNK> as <UNK> <UNK> <UNK> out of the <UNK> to <UNK> the <UNK> of <UNK> to <UNK> and <UNK> <UNK> the game a <UNK> <UNK> <UNK> by the <UNK> who <UNK> his people by <UNK> what sounds like <UNK> power the <UNK> of the <UNK> <UNK> the star <UNK> <UNK> <UNK> <UNK> is <UNK> in the <UNK> <UNK> by <UNK> <UNK> who never <UNK> or leaves the house once <UNK> tries to <UNK> in with the <UNK> by <UNK> a <UNK> red <UNK> with <UNK> of <UNK> and white <UNK> to say <UNK> finds himself running and fighting for his life along the <UNK> <UNK> of <UNK> on his way to a <UNK> with <UNK> and the game br br star <UNK> <UNK> was <UNK> <UNK> by director robert <UNK> who it looks like was never on the set the so called script is just this side of <UNK> see other reviews for the many <UNK> throughout the town of <UNK> has a few good moments but is <UNK> <UNK> by bad editing the ending <UNK> still there's the <UNK> of a good action <UNK> here a <UNK> <UNK> version with more <UNK> action and <UNK> <UNK> might even be pretty good\""
      ]
     },
     "execution_count": 48,
     "metadata": {},
     "output_type": "execute_result"
    }
   ],
   "source": [
    "\" \".join([id_to_word[i] for i in x_train[1000]])"
   ]
  },
  {
   "cell_type": "markdown",
   "metadata": {},
   "source": [
    "## Tokenize"
   ]
  },
  {
   "cell_type": "code",
   "execution_count": 58,
   "metadata": {},
   "outputs": [],
   "source": [
    "# Convert list of integers to one-hot matrix\n",
    "tokenizer = Tokenizer(num_words=num_words)"
   ]
  },
  {
   "cell_type": "code",
   "execution_count": 63,
   "metadata": {},
   "outputs": [
    {
     "data": {
      "text/plain": [
       "(25000, 1000)"
      ]
     },
     "execution_count": 63,
     "metadata": {},
     "output_type": "execute_result"
    }
   ],
   "source": [
    "# Convert list of integers into matrix with max length of dict\n",
    "train_features = tokenizer.sequences_to_matrix(x_train, mode='binary')\n",
    "test_features = tokenizer.sequences_to_matrix(x_test, mode='binary')\n",
    "\n",
    "print(f\"train features shape: {trai}, test features shape {}\") train_features.shape"
   ]
  },
  {
   "cell_type": "markdown",
   "metadata": {},
   "source": [
    "Now you have: \n",
    "\n",
    "* `(25000, 1000)` train features ohe matrix\n",
    "* `(25000, 1000)` test features ohe matrix \n",
    "* `(25000,)` train labels\n",
    "* `(25000,)` test labels"
   ]
  }
 ],
 "metadata": {
  "kernelspec": {
   "display_name": "Python 3",
   "language": "python",
   "name": "python3"
  },
  "language_info": {
   "codemirror_mode": {
    "name": "ipython",
    "version": 3
   },
   "file_extension": ".py",
   "mimetype": "text/x-python",
   "name": "python",
   "nbconvert_exporter": "python",
   "pygments_lexer": "ipython3",
   "version": "3.7.3"
  }
 },
 "nbformat": 4,
 "nbformat_minor": 2
}
