{
 "cells": [
  {
   "cell_type": "markdown",
   "metadata": {},
   "source": [
    "# Group pandas data by hour of day"
   ]
  },
  {
   "cell_type": "code",
   "execution_count": 27,
   "metadata": {},
   "outputs": [],
   "source": [
    "import pandas as pd\n",
    "import numpy as np"
   ]
  },
  {
   "cell_type": "markdown",
   "metadata": {},
   "source": [
    "## Create data"
   ]
  },
  {
   "cell_type": "code",
   "execution_count": 28,
   "metadata": {},
   "outputs": [],
   "source": [
    "periods = 2000\n",
    "\n",
    "# Create time series of #periods every 5 minutes starting from 1/1/2000\n",
    "time = pd.date_range('1/1/2000', periods=periods, freq=\"5min\")\n",
    "\n",
    "# Create pandas series of random value between 0 and 100 with time as index\n",
    "series = pd.Series(np.random.randint(100, size=periods), index=time)"
   ]
  },
  {
   "cell_type": "markdown",
   "metadata": {},
   "source": [
    "## View data"
   ]
  },
  {
   "cell_type": "code",
   "execution_count": 29,
   "metadata": {},
   "outputs": [
    {
     "data": {
      "text/plain": [
       "2000-01-01 00:00:00    49\n",
       "2000-01-01 00:05:00    33\n",
       "2000-01-01 00:10:00    47\n",
       "2000-01-01 00:15:00    47\n",
       "2000-01-01 00:20:00    48\n",
       "Freq: 5T, dtype: int64"
      ]
     },
     "execution_count": 29,
     "metadata": {},
     "output_type": "execute_result"
    }
   ],
   "source": [
    "series.head() # could cast to pd.DataFrame but not necessary"
   ]
  },
  {
   "cell_type": "markdown",
   "metadata": {},
   "source": [
    "## Group data by hour time of day"
   ]
  },
  {
   "cell_type": "code",
   "execution_count": 30,
   "metadata": {},
   "outputs": [
    {
     "data": {
      "text/plain": [
       "0     50.714286\n",
       "1     53.642857\n",
       "2     48.238095\n",
       "3     50.928571\n",
       "4     51.404762\n",
       "5     50.309524\n",
       "6     51.404762\n",
       "7     51.440476\n",
       "8     47.678571\n",
       "9     46.452381\n",
       "10    52.797619\n",
       "11    51.630952\n",
       "12    49.035714\n",
       "13    50.845238\n",
       "14    45.452381\n",
       "15    46.619048\n",
       "16    51.440476\n",
       "17    48.071429\n",
       "18    49.619048\n",
       "19    46.750000\n",
       "20    46.523810\n",
       "21    46.928571\n",
       "22    47.812500\n",
       "23    50.000000\n",
       "dtype: float64"
      ]
     },
     "execution_count": 30,
     "metadata": {},
     "output_type": "execute_result"
    }
   ],
   "source": [
    "# Group data by index's hour and agg by taking mean\n",
    "series.groupby(series.index.hour).mean()"
   ]
  }
 ],
 "metadata": {
  "kernelspec": {
   "display_name": "Python 3",
   "language": "python",
   "name": "python3"
  },
  "language_info": {
   "codemirror_mode": {
    "name": "ipython",
    "version": 3
   },
   "file_extension": ".py",
   "mimetype": "text/x-python",
   "name": "python",
   "nbconvert_exporter": "python",
   "pygments_lexer": "ipython3",
   "version": "3.7.3"
  }
 },
 "nbformat": 4,
 "nbformat_minor": 2
}
